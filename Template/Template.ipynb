{
 "cells": [
  {
   "cell_type": "markdown",
   "id": "b82d2d83",
   "metadata": {},
   "source": [
    "# Title"
   ]
  },
  {
   "cell_type": "markdown",
   "id": "29584bfb",
   "metadata": {},
   "source": [
    "## Date"
   ]
  },
  {
   "cell_type": "markdown",
   "id": "b6194ec4",
   "metadata": {},
   "source": [
    "## Tags\n",
    "\n",
    "**Difficulty:**\n",
    "\n",
    "**Topics:**"
   ]
  },
  {
   "cell_type": "markdown",
   "id": "cf90549b",
   "metadata": {},
   "source": [
    "## Description\n",
    "\n"
   ]
  },
  {
   "cell_type": "markdown",
   "id": "350c774d",
   "metadata": {},
   "source": [
    "## My First Solution\n",
    "\n",
    "(How I solved it.)"
   ]
  },
  {
   "cell_type": "code",
   "execution_count": null,
   "id": "935185b0",
   "metadata": {},
   "outputs": [],
   "source": [
    "# Code for First Solution"
   ]
  },
  {
   "cell_type": "markdown",
   "id": "2043c43a",
   "metadata": {},
   "source": [
    "## Why First Solution is Not Good Enough\n",
    "\n",
    "(It is slow)"
   ]
  },
  {
   "cell_type": "markdown",
   "id": "ccb61725",
   "metadata": {},
   "source": [
    "## My Second Solution\n",
    "\n",
    "(How I made it better)"
   ]
  },
  {
   "cell_type": "code",
   "execution_count": null,
   "id": "cb3fa33e",
   "metadata": {},
   "outputs": [],
   "source": [
    "# Second Solution"
   ]
  },
  {
   "cell_type": "markdown",
   "id": "10a5f8ea",
   "metadata": {},
   "source": [
    "# Notes & Things Learned"
   ]
  }
 ],
 "metadata": {
  "kernelspec": {
   "display_name": "Python 3",
   "language": "python",
   "name": "python3"
  },
  "language_info": {
   "name": "python",
   "version": "3.12.9"
  }
 },
 "nbformat": 4,
 "nbformat_minor": 5
}
