{
 "cells": [
  {
   "cell_type": "markdown",
   "id": "a834d2bd",
   "metadata": {},
   "source": [
    "# Valid Parentheses"
   ]
  },
  {
   "cell_type": "markdown",
   "id": "53a17ea0",
   "metadata": {},
   "source": [
    "## Description\n",
    "\n",
    "Given a string s containing just the characters '(', ')', '{', '}', '[' and ']', determine if the input string is valid.\n",
    "\n",
    "An input string is valid if:\n",
    "\n",
    "Open brackets must be closed by the same type of brackets.\n",
    "Open brackets must be closed in the correct order.\n",
    "Every close bracket has a corresponding open bracket of the same type."
   ]
  },
  {
   "cell_type": "markdown",
   "id": "94a36813",
   "metadata": {},
   "source": [
    "## How to solve\n",
    "\n",
    "- Using a stack data structure\n",
    "- Loop through the string \n",
    "    - If it is an opening add it to the stack\n",
    "    - Else need to check if the closing one matches the top one on the stack\n",
    "        - If it does\n",
    "            - Remove it from the stack\n",
    "        - Else\n",
    "            - Return false\n"
   ]
  },
  {
   "cell_type": "markdown",
   "id": "cb17e746",
   "metadata": {},
   "source": [
    "### Here is my solution \n",
    "\n",
    "It works by going through the list once and if it detects a open parentheses then it adds it to the stack. If it is a closing file then it checks if a stack exists and that the last value in the stack is the one that it needs to remove.\n",
    "\n",
    "If it makes it through the whole list then it returns true if the stack is empty.s"
   ]
  },
  {
   "cell_type": "code",
   "execution_count": null,
   "id": "6537ccdc",
   "metadata": {},
   "outputs": [],
   "source": [
    "class Solution:\n",
    "    def isValid(self, s: str) -> bool:\n",
    "\n",
    "        stack = []\n",
    "\n",
    "        for i in s:\n",
    "            if i == '(' or i == '[' or i == '{':\n",
    "                stack.append(i)\n",
    "            elif i == ')':\n",
    "                if stack and stack[-1] == '(':\n",
    "                    stack.pop(-1)\n",
    "                else:\n",
    "                    return False\n",
    "            elif i == ']':\n",
    "                if stack and stack[-1] == '[':\n",
    "                    stack.pop(-1)\n",
    "                else:\n",
    "                    return False\n",
    "            else: # i == }\n",
    "                if stack and stack[-1] == '{':\n",
    "                    stack.pop(-1)\n",
    "                else:\n",
    "                    return False\n",
    "\n",
    "        return True if len(stack) == 0 else False\n",
    "            "
   ]
  }
 ],
 "metadata": {
  "kernelspec": {
   "display_name": "Python 3",
   "language": "python",
   "name": "python3"
  },
  "language_info": {
   "name": "python",
   "version": "3.10.7"
  }
 },
 "nbformat": 4,
 "nbformat_minor": 5
}
