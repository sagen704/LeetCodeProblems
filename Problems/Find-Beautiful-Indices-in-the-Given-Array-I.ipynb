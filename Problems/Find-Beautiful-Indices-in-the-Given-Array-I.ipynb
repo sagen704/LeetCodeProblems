{
 "cells": [
  {
   "cell_type": "markdown",
   "id": "976f6855",
   "metadata": {},
   "source": [
    "# Find Beautiful Indices in the Given Array I"
   ]
  },
  {
   "cell_type": "markdown",
   "id": "eb5f254c",
   "metadata": {},
   "source": [
    "## Description\n",
    "\n",
    "You are given a **0-indexed** string `s`, a string `a`, a string `b`, and an integer `k`.\n",
    "\n",
    "An index `i` is **beautiful** if:\n",
    "\n",
    "1. `0 <= i <= s.length - a.length`  \n",
    "2. `s[i..(i + a.length - 1)] == a`  \n",
    "3. There exists an index `j` such that:\n",
    "   - `0 <= j <= s.length - b.length`  \n",
    "   - `s[j..(j + b.length - 1)] == b`  \n",
    "   - `|j - i| <= k`  \n",
    "\n",
    "Return the array that contains beautiful indices in **sorted order from smallest to largest**.\n",
    "\n",
    "---\n",
    "\n",
    "**Example 1:**\n",
    "\n",
    "Input: s = “isawsquirrelnearmysquirrelhouseohmy”, a = “my”, b = “squirrel”, k = 15\n",
    "\n",
    "Output: [16, 33]\n",
    "\n",
    "**Explanation:**\n",
    "- The index 16 is beautiful because `s[16..17] == \"my\"` and there exists an index 4 with `s[4..11] == \"squirrel\"` and `|16 - 4| <= 15`.\n",
    "- The index 33 is beautiful because `s[33..34] == \"my\"` and there exists an index 18 with `s[18..25] == \"squirrel\"` and `|33 - 18| <= 15`.  \n",
    "Thus, we return `[16, 33]`.\n",
    "\n",
    "---\n",
    "\n",
    "**Example 2:**\n",
    "\n",
    "Input: s = “abcd”, a = “a”, b = “a”, k = 4\n",
    "\n",
    "Output: [0]\n",
    "\n",
    "**Explanation:**\n",
    "- The index 0 is beautiful because `s[0..0] == \"a\"` and there exists an index 0 with `s[0..0] == \"a\"` and `|0 - 0| <= 4`.  \n",
    "Thus, we return `[0]`."
   ]
  },
  {
   "cell_type": "code",
   "execution_count": 1,
   "id": "85635ffd",
   "metadata": {},
   "outputs": [],
   "source": [
    "class Solution:\n",
    "    def beautifulIndices(self, s, a, b, k):\n",
    "\n",
    "        # So first I want to send a pointer out to go find a\n",
    "        # then I will go find a pointer to find b \n",
    "        # then I will go check if it is a beautiful index\n",
    "\n",
    "        indices = set()\n",
    "\n",
    "        for i in range(len(s)):\n",
    "            if s[i] == a[0]:\n",
    "                if s[i : i + len(a)] == a and 0 <= i <= len(s) - len(a):\n",
    "                    for j in range(len(s)):\n",
    "                        if s[j] == b[0]:\n",
    "                            if s[j : j + len(b)] == b and 0 <= j <= len(s) - len(b):\n",
    "                                if abs(j - i) <= k:\n",
    "                                    indices.add(i)\n",
    "\n",
    "        return sorted(list(indices)) if len(indices) > 0 else []\n",
    "\n",
    "\n",
    "\n",
    "        "
   ]
  },
  {
   "cell_type": "markdown",
   "id": "47d78f69",
   "metadata": {},
   "source": [
    "## hmm\n",
    "\n",
    "I broke the time limit. This is definitely because of of the double for loop so I think I am going to have to start in a different place every time. Like start after b after each beautiful index is found. that would help shorten by a lot. "
   ]
  },
  {
   "cell_type": "markdown",
   "id": "6e93c080",
   "metadata": {},
   "source": [
    "## what I updated\n",
    "\n",
    "So I updated it so first it just goes and finds all of the instances of a and b in s. Then it goes through those index's and checks if it is beautiful. "
   ]
  },
  {
   "cell_type": "code",
   "execution_count": null,
   "id": "f872ba46",
   "metadata": {},
   "outputs": [],
   "source": [
    "class Solution:\n",
    "    def beautifulIndices(self, s: str, a: str, b: str, k: int) -> List[int]:\n",
    "\n",
    "        # So I am going to get all the indices of a and b in one pass\n",
    "\n",
    "        a_ind = []\n",
    "        b_ind = []\n",
    "        \n",
    "        beaut_ind = []\n",
    "\n",
    "        for i in range(len(s)):\n",
    "            if s[i] == a[0]:\n",
    "                if s[i: i + len(a)] == a:\n",
    "                    a_ind.append(i)\n",
    "            if s[i] == b[0]:\n",
    "                if s[i: i + len(b)] == b:\n",
    "                    b_ind.append(i)\n",
    "\n",
    "        i = 0\n",
    "        j = 0\n",
    "\n",
    "        while (i < len(a_ind)) and (j < len(b_ind)):\n",
    "            print(i,j)\n",
    "            print(b_ind[j], a_ind[i])\n",
    "            if abs(b_ind[j] - a_ind[i]) <= k:\n",
    "                print(f'in the if with i {i}, j {j}')\n",
    "                beaut_ind.append(a_ind[i])\n",
    "                i += 1\n",
    "            elif b_ind[j] < a_ind[i] - k:\n",
    "                j += 1\n",
    "            else:\n",
    "                i += 1\n",
    "\n",
    "        return sorted(beaut_ind)"
   ]
  },
  {
   "cell_type": "markdown",
   "id": "f86a6ed2",
   "metadata": {},
   "source": [
    "## What to add next add directional logic for the checking and use a faster string finder like str.find()"
   ]
  },
  {
   "cell_type": "markdown",
   "id": "9a9e7bc0",
   "metadata": {},
   "source": [
    "## Trying to explain again \n",
    "\n",
    "So in this problem the best thing to do is\n",
    " - To first find all of the a indices and b indices.\n",
    "    - The fastest way to do this is str.find() and then move the list forward to get it every time. \n",
    "    - **Need to explain more on how this is done or make sure I know what I did**\n",
    "\n",
    " - Next you want to determine what indices in A are beautiful\n",
    "    - you can do this bidirectional because the logic is odd for when you need to move the indices forward in the two pointer.\n",
    "    - **Need to explain more on what the logic needs to be.**\n",
    "\n"
   ]
  }
 ],
 "metadata": {
  "kernelspec": {
   "display_name": "Python 3",
   "language": "python",
   "name": "python3"
  },
  "language_info": {
   "codemirror_mode": {
    "name": "ipython",
    "version": 3
   },
   "file_extension": ".py",
   "mimetype": "text/x-python",
   "name": "python",
   "nbconvert_exporter": "python",
   "pygments_lexer": "ipython3",
   "version": "3.12.9"
  }
 },
 "nbformat": 4,
 "nbformat_minor": 5
}
