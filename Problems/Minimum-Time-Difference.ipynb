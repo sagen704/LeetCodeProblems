{
 "cells": [
  {
   "cell_type": "markdown",
   "id": "8482fa54",
   "metadata": {},
   "source": [
    "# Minimum-Time-Difference"
   ]
  },
  {
   "cell_type": "markdown",
   "id": "6c8bc38a",
   "metadata": {},
   "source": [
    "## Description\n",
    "\n",
    "Given a list of 24-hour clock time points in \"HH:MM\" format, return the minimum minutes difference between any two time-points in the list.\n",
    " \n",
    "\n",
    "Example 1:\n",
    "\n",
    "Input: timePoints = [\"23:59\",\"00:00\"]\n",
    "Output: 1\n",
    "\n",
    "Example 2:\n",
    "\n",
    "Input: timePoints = [\"00:00\",\"23:59\",\"00:00\"]\n",
    "Output: 0\n",
    " \n",
    "\n",
    "Constraints:\n",
    "\n",
    "2 <= timePoints.length <= 2 * 104\n",
    "\n",
    "timePoints[i] is in the format \"HH:MM\"."
   ]
  },
  {
   "cell_type": "markdown",
   "id": "150bde87",
   "metadata": {},
   "source": [
    "## My solution \n",
    "\n",
    "So first it gets all of the points and formats them in integers so they are easier to work with. Next python sorts them with .sorted(). Next I get the minutes from 0 to the time it is so 0 would be 0 01:00 would be 60. Next I loop through and check the min distance from each of the points. Lastly I check the distance from the front one to the back one. "
   ]
  },
  {
   "cell_type": "code",
   "execution_count": null,
   "id": "ed026337",
   "metadata": {},
   "outputs": [],
   "source": [
    "class Solution:\n",
    "    def findMinDifference(self, timePoints):\n",
    "\n",
    "        t_points_formated = []\n",
    "        t_points_formated_sorted = []\n",
    "        min_time = float('inf')\n",
    "\n",
    "        for point in timePoints:\n",
    "            fp = point.split(\":\")\n",
    "            t_points_formated_sorted.append([int(fp[0]), int(fp[1])])\n",
    "        \n",
    "        t_points_formated_sorted.sort()\n",
    "        \n",
    "\n",
    "        mins_from_mid = []\n",
    "\n",
    "        # Okay i just need to check the difference between each consecutive time and then between the last and first\n",
    "\n",
    "        for time in t_points_formated_sorted:\n",
    "            mins_from_mid.append(time[0] * 60 + time[1])\n",
    "\n",
    "        # Now i need to move through all the pairs in the list and get the min time\n",
    "\n",
    "        for i in range(len(mins_from_mid)):\n",
    "            if i != len(mins_from_mid) - 1:\n",
    "                if mins_from_mid[i+1] - mins_from_mid[i] < min_time:\n",
    "                    min_time = mins_from_mid[i+1] - mins_from_mid[i]\n",
    "\n",
    "        # now just check the difference between the last and the first\n",
    "        if (mins_from_mid[0] + 1440) - mins_from_mid[-1] < min_time and (mins_from_mid[0] + 1440) - mins_from_mid[-1] >= 0:\n",
    "            min_time = (mins_from_mid[0] + 1440) - mins_from_mid[-1]\n",
    "\n",
    "\n",
    "        return int(min_time)\n",
    "\n",
    "\n",
    "        "
   ]
  },
  {
   "cell_type": "markdown",
   "id": "127fb59e",
   "metadata": {},
   "source": [
    "## Hmm\n",
    "\n",
    "This one worked but it is slow. Not terribly slow but slow enough to not get hired by good companies I need to see what I can do to make it faster. "
   ]
  }
 ],
 "metadata": {
  "kernelspec": {
   "display_name": "Python 3",
   "language": "python",
   "name": "python3"
  },
  "language_info": {
   "name": "python",
   "version": "3.12.9"
  }
 },
 "nbformat": 4,
 "nbformat_minor": 5
}
