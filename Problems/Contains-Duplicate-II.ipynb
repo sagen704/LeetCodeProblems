{
 "cells": [
  {
   "cell_type": "markdown",
   "id": "52fc8434",
   "metadata": {},
   "source": [
    "# Contains Duplicate II"
   ]
  },
  {
   "cell_type": "markdown",
   "id": "7b472fe8",
   "metadata": {},
   "source": [
    "## Description\n",
    "\n",
    "Given an integer array nums and an integer k, return true if there are two distinct indices i and j in the array such that nums[i] == nums[j] and abs(i - j) <= k.\n",
    "\n",
    " \n",
    "\n",
    "Example 1:\n",
    "\n",
    "Input: nums = [1,2,3,1], k = 3\n",
    "Output: true\n",
    "\n",
    "Example 2:\n",
    "\n",
    "Input: nums = [1,0,1,1], k = 1\n",
    "Output: true\n",
    "\n",
    "Example 3:\n",
    "\n",
    "Input: nums = [1,2,3,1,2,3], k = 2\n",
    "Output: false"
   ]
  },
  {
   "cell_type": "code",
   "execution_count": null,
   "id": "c4752f96",
   "metadata": {},
   "outputs": [],
   "source": [
    "class Solution:\n",
    "    def containsNearbyDuplicate(self, nums: List[int], k: int) -> bool:\n",
    "\n",
    "        num_dict = {}\n",
    "        \n",
    "        for i in range(len(nums)):\n",
    "            if nums[i] not in num_dict:\n",
    "                num_dict[nums[i]] = [i]\n",
    "            else:\n",
    "                num_dict[nums[i]].append(i)\n",
    "\n",
    "        for item in num_dict:\n",
    "            if len(num_dict[item]) > 1:\n",
    "                for i in range(len(num_dict[item])):\n",
    "                    if i < len(num_dict[item]) - 1:\n",
    "                        if abs(num_dict[item][i] - num_dict[item][i+1]) <= k:\n",
    "                            return True"
   ]
  },
  {
   "cell_type": "markdown",
   "id": "8b97350d",
   "metadata": {},
   "source": [
    "# That works but runs very slow\n",
    "\n",
    "I think I will check every time I go through the list the first time. Here is my faster solution."
   ]
  },
  {
   "cell_type": "code",
   "execution_count": null,
   "id": "9f1b8869",
   "metadata": {},
   "outputs": [],
   "source": [
    "class Solution:\n",
    "    def containsNearbyDuplicate(self, nums: List[int], k: int) -> bool:\n",
    "\n",
    "        num_dict = {}\n",
    "        \n",
    "        for i in range(len(nums)):\n",
    "            # print(num_dict)\n",
    "            if nums[i] not in num_dict:\n",
    "                num_dict[nums[i]] = i\n",
    "            else:\n",
    "                if abs(num_dict[nums[i]] - i) <= k:\n",
    "                    return True\n",
    "                num_dict[nums[i]] = i\n",
    "\n",
    "        return False"
   ]
  }
 ],
 "metadata": {
  "kernelspec": {
   "display_name": "Python 3",
   "language": "python",
   "name": "python3"
  },
  "language_info": {
   "name": "python",
   "version": "3.12.9"
  }
 },
 "nbformat": 4,
 "nbformat_minor": 5
}
