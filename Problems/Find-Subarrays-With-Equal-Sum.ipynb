{
 "cells": [
  {
   "cell_type": "markdown",
   "id": "d8887ecf",
   "metadata": {},
   "source": [
    "# Find Subarrays With Equal Sum"
   ]
  },
  {
   "cell_type": "markdown",
   "id": "141c7333",
   "metadata": {},
   "source": [
    "## Description\n",
    "\n",
    "Given a 0-indexed integer array nums, determine whether there exist two subarrays of length 2 with equal sum. Note that the two subarrays must begin at different indices.\n",
    "\n",
    "Return true if these subarrays exist, and false otherwise.\n",
    "\n",
    "A subarray is a contiguous non-empty sequence of elements within an array.\n",
    "\n",
    " \n",
    "\n",
    "Example 1:\n",
    "\n",
    "Input: nums = [4,2,4]\n",
    "Output: true\n",
    "Explanation: The subarrays with elements [4,2] and [2,4] have the same sum of 6.\n",
    "\n",
    "Example 2:\n",
    "\n",
    "Input: nums = [1,2,3,4,5]\n",
    "Output: false\n",
    "Explanation: No two subarrays of size 2 have the same sum.\n",
    "\n",
    "Example 3:\n",
    "\n",
    "Input: nums = [0,0,0]\n",
    "Output: true\n",
    "Explanation: The subarrays [nums[0],nums[1]] and [nums[1],nums[2]] have the same sum of 0. \n",
    "Note that even though the subarrays have the same content, the two subarrays are considered different because they are in different positions in the original array."
   ]
  },
  {
   "cell_type": "code",
   "execution_count": null,
   "id": "26b0604e",
   "metadata": {},
   "outputs": [],
   "source": [
    "class Solution:\n",
    "    def findSubarrays(self, nums):\n",
    "        sums = {}\n",
    "\n",
    "        for i in range(1, len(nums), 1):\n",
    "            add = nums[i - 1] + nums[i]\n",
    "            if add not in sums:\n",
    "                sums[add] = True\n",
    "            else:\n",
    "                return True\n",
    "        return False"
   ]
  },
  {
   "cell_type": "markdown",
   "id": "20972730",
   "metadata": {},
   "source": [
    "## How solved\n",
    "\n",
    "I made a dictionary of what the sums are for each of the pairs. This is because looking it up in a dictionary takes 0 time. Then I looped through and looked at all the pairs of the numbers and once I found a matching sum I returned true. Else I return false.\n"
   ]
  }
 ],
 "metadata": {
  "language_info": {
   "name": "python"
  }
 },
 "nbformat": 4,
 "nbformat_minor": 5
}
