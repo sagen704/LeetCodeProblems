{
 "cells": [
  {
   "cell_type": "markdown",
   "id": "cf7f3f4c",
   "metadata": {},
   "source": [
    "# Reverse Bits"
   ]
  },
  {
   "cell_type": "markdown",
   "id": "15401505",
   "metadata": {},
   "source": [
    "## Description\n",
    "\n",
    "Reverse bits of a given 32 bits signed integer.\n",
    "\n",
    " \n",
    "\n",
    "Example 1:\n",
    "\n",
    "Input: n = 43261596\n",
    "\n",
    "Output: 964176192\n",
    "\n",
    "Explanation:\n",
    "\n",
    "Integer\tBinary\n",
    "\n",
    "43261596\t00000010100101000001111010011100\n",
    "\n",
    "964176192\t00111001011110000010100101000000\n"
   ]
  },
  {
   "cell_type": "code",
   "execution_count": 12,
   "id": "a364b0a4",
   "metadata": {},
   "outputs": [],
   "source": [
    "class Solution(object):\n",
    "    def reverseBits(self, n):\n",
    "        \"\"\"\n",
    "        :type n: int\n",
    "        :rtype: int\n",
    "        \"\"\"\n",
    "\n",
    "        # Define the return bits\n",
    "        res = 0\n",
    "        print(bin(n)[2:])\n",
    "        # Loop through the string once O(1) time complexity\n",
    "        for i in range(32):\n",
    "            # This gets the bit at the ith position from n\n",
    "            bit = (n >> i) & 1\n",
    "\n",
    "            # place that bit in its reversed position\n",
    "            res = res | (bit << (31 - i))\n",
    "            print(bin(res)[2:])\n",
    "\n",
    "        return res\n"
   ]
  },
  {
   "cell_type": "code",
   "execution_count": 15,
   "id": "810df67b",
   "metadata": {},
   "outputs": [
    {
     "name": "stdout",
     "output_type": "stream",
     "text": [
      "100\n",
      "0\n",
      "0\n",
      "100000000000000000000000000000\n",
      "100000000000000000000000000000\n",
      "100000000000000000000000000000\n",
      "100000000000000000000000000000\n",
      "100000000000000000000000000000\n",
      "100000000000000000000000000000\n",
      "100000000000000000000000000000\n",
      "100000000000000000000000000000\n",
      "100000000000000000000000000000\n",
      "100000000000000000000000000000\n",
      "100000000000000000000000000000\n",
      "100000000000000000000000000000\n",
      "100000000000000000000000000000\n",
      "100000000000000000000000000000\n",
      "100000000000000000000000000000\n",
      "100000000000000000000000000000\n",
      "100000000000000000000000000000\n",
      "100000000000000000000000000000\n",
      "100000000000000000000000000000\n",
      "100000000000000000000000000000\n",
      "100000000000000000000000000000\n",
      "100000000000000000000000000000\n",
      "100000000000000000000000000000\n",
      "100000000000000000000000000000\n",
      "100000000000000000000000000000\n",
      "100000000000000000000000000000\n",
      "100000000000000000000000000000\n",
      "100000000000000000000000000000\n",
      "100000000000000000000000000000\n",
      "100000000000000000000000000000\n",
      "536870912\n"
     ]
    }
   ],
   "source": [
    "sol = Solution()\n",
    "\n",
    "# print(sol.reverseBits(43261596))\n",
    "\n",
    "print(sol.reverseBits(4))"
   ]
  }
 ],
 "metadata": {
  "kernelspec": {
   "display_name": "Python 3",
   "language": "python",
   "name": "python3"
  },
  "language_info": {
   "codemirror_mode": {
    "name": "ipython",
    "version": 3
   },
   "file_extension": ".py",
   "mimetype": "text/x-python",
   "name": "python",
   "nbconvert_exporter": "python",
   "pygments_lexer": "ipython3",
   "version": "3.12.9"
  }
 },
 "nbformat": 4,
 "nbformat_minor": 5
}
