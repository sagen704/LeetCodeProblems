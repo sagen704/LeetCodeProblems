{
 "cells": [
  {
   "cell_type": "markdown",
   "id": "add37787",
   "metadata": {},
   "source": [
    "# Valid Palindrome"
   ]
  },
  {
   "cell_type": "markdown",
   "id": "04d19047",
   "metadata": {},
   "source": [
    "## Description \n",
    "\n",
    "A phrase is a palindrome if, after converting all uppercase letters into lowercase letters and removing all non-alphanumeric characters, it reads the same forward and backward. Alphanumeric characters include letters and numbers.\n",
    "\n",
    "Given a string s, return true if it is a palindrome, or false otherwise.\n",
    "\n",
    " \n",
    "```\n",
    "Example 1:\n",
    "\n",
    "Input: s = \"A man, a plan, a canal: Panama\"\n",
    "Output: true\n",
    "Explanation: \"amanaplanacanalpanama\" is a palindrome.\n",
    "```\n",
    "\n",
    "```\n",
    "Example 2:\n",
    "\n",
    "\n",
    "Input: s = \"race a car\"\n",
    "Output: false\n",
    "Explanation: \"raceacar\" is not a palindrome.\n",
    "```\n",
    "\n",
    "```\n",
    "Example 3:\n",
    "\n",
    "Input: s = \" \"\n",
    "Output: true\n",
    "Explanation: s is an empty string \"\" after removing non-alphanumeric characters.\n",
    "Since an empty string reads the same forward and backward, it is a palindrome.\n",
    " ```\n",
    "\n",
    "Constraints:\n",
    "\n",
    "1 <= s.length <= 2 * 105\n",
    "s consists only of printable ASCII characters."
   ]
  },
  {
   "cell_type": "markdown",
   "id": "f8eb17fe",
   "metadata": {},
   "source": [
    "## Work \n",
    "\n",
    "I am going to use two pointers and start one at the end and the other at the start. \n",
    "\n",
    "I am going to use a while loop so I can keep iterating until true or false\n",
    "\n",
    "For each pass I need to check \n",
    "- If pointer R & L is a letter\n",
    "  - If the lower case version is the same as the other pointer\n",
    "    - Update both pointers \n",
    "  - Else return false\n",
    "- Else move the one that is not over\n",
    "\n",
    "\n"
   ]
  },
  {
   "cell_type": "markdown",
   "id": "190b0fd3",
   "metadata": {},
   "source": [
    "## Code"
   ]
  },
  {
   "cell_type": "code",
   "execution_count": 16,
   "id": "5d3037f1",
   "metadata": {},
   "outputs": [],
   "source": [
    "class Solution:\n",
    "    def isPalindrome(self, s: str) -> bool:\n",
    "\n",
    "        pointerL = 0\n",
    "        pointerR = len(s) - 1\n",
    "\n",
    "        while pointerL < pointerR:\n",
    "            if not s[pointerL].isalnum():\n",
    "                pointerL += 1\n",
    "            elif not s[pointerR].isalnum():\n",
    "                pointerR -= 1\n",
    "            else:\n",
    "                if s[pointerL].lower() != s[pointerR].lower():\n",
    "                    return False\n",
    "                else:\n",
    "                    pointerL += 1\n",
    "                    pointerR -= 1\n",
    "        return True\n"
   ]
  },
  {
   "cell_type": "markdown",
   "id": "ce07c2bf",
   "metadata": {},
   "source": [
    "## Test"
   ]
  },
  {
   "cell_type": "code",
   "execution_count": 17,
   "id": "e50fe8cb",
   "metadata": {},
   "outputs": [
    {
     "name": "stdout",
     "output_type": "stream",
     "text": [
      "True\n",
      "True\n",
      "True\n"
     ]
    }
   ],
   "source": [
    "sol = Solution()\n",
    "print(sol.isPalindrome(\" \"))\n",
    "print(sol.isPalindrome(\"aa\"))\n",
    "print(sol.isPalindrome(\"A man, a plan, a canal: Panama\"))"
   ]
  },
  {
   "cell_type": "markdown",
   "id": "35d48fd3",
   "metadata": {},
   "source": [
    "## Need to Remember\n",
    "\n",
    "I need to account for examples in the future for 2 pointer problems. Do not try to solve with stack. remember 2 pointer. \n",
    "\n",
    "I need to solve the problem visually because ran into issues for the shorter test cases.\n",
    "\n",
    "Learned how to use ``isalnum`` which checks for is it a number or letter."
   ]
  }
 ],
 "metadata": {
  "kernelspec": {
   "display_name": "Python 3",
   "language": "python",
   "name": "python3"
  },
  "language_info": {
   "codemirror_mode": {
    "name": "ipython",
    "version": 3
   },
   "file_extension": ".py",
   "mimetype": "text/x-python",
   "name": "python",
   "nbconvert_exporter": "python",
   "pygments_lexer": "ipython3",
   "version": "3.12.9"
  }
 },
 "nbformat": 4,
 "nbformat_minor": 5
}
