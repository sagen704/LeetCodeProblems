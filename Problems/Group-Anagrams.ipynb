{
 "cells": [
  {
   "cell_type": "markdown",
   "id": "b82d2d83",
   "metadata": {},
   "source": [
    "# Group Anagrams"
   ]
  },
  {
   "cell_type": "markdown",
   "id": "b6194ec4",
   "metadata": {},
   "source": [
    "## Tags\n",
    "\n",
    "**Difficulty:** Medium\n",
    "\n",
    "**Topics:** Array Hash Table String Sorting"
   ]
  },
  {
   "cell_type": "markdown",
   "id": "cf90549b",
   "metadata": {},
   "source": [
    "## Description\n",
    "\n",
    "Given an array of strings strs, group the anagrams together. You can return the answer in any order.\n",
    "\n",
    " \n",
    "\n",
    "Example 1:\n",
    "\n",
    "Input: strs = [\"eat\",\"tea\",\"tan\",\"ate\",\"nat\",\"bat\"]\n",
    "\n",
    "Output: [[\"bat\"],[\"nat\",\"tan\"],[\"ate\",\"eat\",\"tea\"]]\n",
    "\n",
    "Explanation:\n",
    "\n",
    "There is no string in strs that can be rearranged to form \"bat\".\n",
    "The strings \"nat\" and \"tan\" are anagrams as they can be rearranged to form each other.\n",
    "The strings \"ate\", \"eat\", and \"tea\" are anagrams as they can be rearranged to form each other.\n",
    "\n",
    "Example 2:\n",
    "\n",
    "Input: strs = [\"\"]\n",
    "\n",
    "Output: [[\"\"]]\n",
    "\n",
    "Example 3:\n",
    "\n",
    "Input: strs = [\"a\"]\n",
    "\n",
    "Output: [[\"a\"]]"
   ]
  },
  {
   "cell_type": "markdown",
   "id": "350c774d",
   "metadata": {},
   "source": [
    "## My First Solution\n",
    "\n",
    "I solved by thinking of how to check if any given word has all the same letters as another word. I did this by sorting the letters of a word and putting them back together. Then I could set that as a dictionary key which I can then have the value as the list of words that match the key's letters"
   ]
  },
  {
   "cell_type": "code",
   "execution_count": null,
   "id": "935185b0",
   "metadata": {},
   "outputs": [],
   "source": [
    "class Solution:\n",
    "    def groupAnagrams(self, strs):\n",
    "\n",
    "        letters_ana_dict = {}\n",
    "\n",
    "        for i in strs:\n",
    "            letters = \"\".join(sorted(i))\n",
    "            \n",
    "            if letters not in letters_ana_dict:\n",
    "                letters_ana_dict[letters] = [i]\n",
    "            else:\n",
    "                letters_ana_dict[letters].append(i)\n",
    "        \n",
    "        return list(letters_ana_dict.values())\n",
    "        "
   ]
  },
  {
   "cell_type": "markdown",
   "id": "2043c43a",
   "metadata": {},
   "source": [
    "## Why First Solution is Not Good Enough\n",
    "\n",
    "Boom first solution was so freaking fast I don't even need to do another. It also pretty good space complexity"
   ]
  },
  {
   "cell_type": "markdown",
   "id": "ccb61725",
   "metadata": {},
   "source": [
    "## My Second Solution\n",
    "\n",
    "(How I made it better)"
   ]
  },
  {
   "cell_type": "code",
   "execution_count": null,
   "id": "cb3fa33e",
   "metadata": {},
   "outputs": [],
   "source": [
    "# Second Solution"
   ]
  },
  {
   "cell_type": "markdown",
   "id": "10a5f8ea",
   "metadata": {},
   "source": [
    "# Notes & Things Learned\n",
    "\n",
    "Pretty easy problem just learned that ```str.join(list)``` can join a list of letters with the str between them. "
   ]
  }
 ],
 "metadata": {
  "kernelspec": {
   "display_name": "Python 3",
   "language": "python",
   "name": "python3"
  },
  "language_info": {
   "name": "python",
   "version": "3.12.9"
  }
 },
 "nbformat": 4,
 "nbformat_minor": 5
}
