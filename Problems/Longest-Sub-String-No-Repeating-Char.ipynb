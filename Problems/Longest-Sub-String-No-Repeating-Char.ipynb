{
 "cells": [
  {
   "cell_type": "markdown",
   "id": "2d6e97ab",
   "metadata": {},
   "source": [
    "# Longest Substring Without Repeating Characters"
   ]
  },
  {
   "cell_type": "markdown",
   "id": "85d43203",
   "metadata": {},
   "source": [
    "## How to solve\n",
    "\n",
    "- Need to use sliding window\n",
    "- Have a pointer to the left and then use a for loop to iterate through the right\n",
    "- Once you run into a duplicate remove what was on the left and update the left pointer\n",
    "- Keep moving sliding over one keeping track of the largest size\n",
    "- Return largest size"
   ]
  },
  {
   "cell_type": "code",
   "execution_count": 6,
   "id": "492cbb0b",
   "metadata": {},
   "outputs": [],
   "source": [
    "class Solution(object):\n",
    "    def lengthOfLongestSubstring(self, s):\n",
    "        \"\"\"\n",
    "        :type s: str\n",
    "        :rtype: int\n",
    "        \"\"\"\n",
    "        longestSub = set()\n",
    "        longest = 0\n",
    "        l = 0\n",
    "        \n",
    "        for r in range(len(s)):\n",
    "            while s[r] in longestSub:\n",
    "                longestSub.remove(s[l])\n",
    "                l += 1\n",
    "            longestSub.add(s[r])\n",
    "            longest = max(longest, r - l + 1)\n",
    "\n",
    "        return longest\n"
   ]
  },
  {
   "cell_type": "code",
   "execution_count": 7,
   "id": "3b91708e",
   "metadata": {},
   "outputs": [
    {
     "name": "stdout",
     "output_type": "stream",
     "text": [
      "3\n",
      "1\n",
      "3\n"
     ]
    }
   ],
   "source": [
    "s = Solution()\n",
    "print(s.lengthOfLongestSubstring(\"abcabcbb\"))  # Output: 3\n",
    "print(s.lengthOfLongestSubstring(\"bbbbb\"))     # Output: 1\n",
    "print(s.lengthOfLongestSubstring(\"pwwkew\"))    # Output: 3"
   ]
  }
 ],
 "metadata": {
  "kernelspec": {
   "display_name": "Python 3",
   "language": "python",
   "name": "python3"
  },
  "language_info": {
   "codemirror_mode": {
    "name": "ipython",
    "version": 3
   },
   "file_extension": ".py",
   "mimetype": "text/x-python",
   "name": "python",
   "nbconvert_exporter": "python",
   "pygments_lexer": "ipython3",
   "version": "3.10.7"
  }
 },
 "nbformat": 4,
 "nbformat_minor": 5
}
