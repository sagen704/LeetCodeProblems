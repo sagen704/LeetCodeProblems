{
 "cells": [
  {
   "cell_type": "markdown",
   "id": "1ed0a5c2",
   "metadata": {},
   "source": [
    "# Assign Cookies\n",
    "\n",
    "Assume you are an awesome parent and want to give your children some cookies. But, you should give each child at most one cookie.\n",
    "\n",
    "Each child i has a greed factor g[i], which is the minimum size of a cookie that the child will be content with; and each cookie j has a size s[j]. If s[j] >= g[i], we can assign the cookie j to the child i, and the child i will be content. Your goal is to maximize the number of your content children and output the maximum number."
   ]
  },
  {
   "cell_type": "markdown",
   "id": "9e0302d8",
   "metadata": {},
   "source": [
    "# How solved\n",
    "\n",
    "I first needed to identify the local optimum and the global optimum. Local: taking the largest cookie size and then apply it to the greediest child that it can satisfy. \n",
    "\n",
    "From there I wrote the code where it loops while cookie sizes and greedy kids are still around. Then it gets the local optimum values and check if it satisfies the greedy kid. \n",
    "\n",
    "if it does then update the amount of content kids and remove the two values \n",
    "\n",
    "if it doesn't get rid of the greedy kid because they will never be satisfied. \n",
    "\n",
    "I needed to handle the edge cases of there not being any cookies. The other edge case is that min(g) > max(s) so no greedy kid will be satisfied. "
   ]
  },
  {
   "cell_type": "code",
   "execution_count": 2,
   "id": "ca61c1c2",
   "metadata": {},
   "outputs": [],
   "source": [
    "class Solution:\n",
    "    def findContentChildren(self, g, s):\n",
    "\n",
    "        content = 0\n",
    "\n",
    "        if not s or min(g) > max(s):\n",
    "            return content\n",
    "        else:\n",
    "            while s and g:\n",
    "                # print(s, g)\n",
    "                largestCookie = max(s)\n",
    "                greediestKid = max(g)\n",
    "\n",
    "                if largestCookie >= greediestKid:\n",
    "                    content += 1\n",
    "                    g.remove(greediestKid)\n",
    "                    s.remove(largestCookie)\n",
    "                else:\n",
    "                     g.remove(greediestKid)\n",
    "        \n",
    "        return content\n",
    "        "
   ]
  },
  {
   "cell_type": "markdown",
   "id": "594d251c",
   "metadata": {},
   "source": [
    "# The Problem\n",
    "\n",
    "This solution runs really slow compared to other leetcode solutions. it has good memory amount but really slow.\n",
    "\n",
    "I am going to try the other direction to see if that runs faster so it checks from the min of each. I did that and it does not make it any faster which makes sense because reversing the order doesn't fix it. \n",
    "\n"
   ]
  },
  {
   "cell_type": "code",
   "execution_count": null,
   "id": "4231f8f6",
   "metadata": {},
   "outputs": [],
   "source": []
  }
 ],
 "metadata": {
  "kernelspec": {
   "display_name": "Python 3",
   "language": "python",
   "name": "python3"
  },
  "language_info": {
   "codemirror_mode": {
    "name": "ipython",
    "version": 3
   },
   "file_extension": ".py",
   "mimetype": "text/x-python",
   "name": "python",
   "nbconvert_exporter": "python",
   "pygments_lexer": "ipython3",
   "version": "3.12.9"
  }
 },
 "nbformat": 4,
 "nbformat_minor": 5
}
