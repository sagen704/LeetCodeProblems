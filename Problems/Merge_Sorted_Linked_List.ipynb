{
 "cells": [
  {
   "cell_type": "markdown",
   "id": "05743009",
   "metadata": {},
   "source": [
    "# Merge Two Sorted Lists"
   ]
  },
  {
   "cell_type": "markdown",
   "id": "d224517c",
   "metadata": {},
   "source": [
    "## Description\n",
    "\n",
    "You are given the heads of two sorted linked lists list1 and list2.\n",
    "\n",
    "Merge the two lists into one sorted list. The list should be made by splicing together the nodes of the first two lists.\n",
    "\n",
    "Return the head of the merged linked list."
   ]
  },
  {
   "cell_type": "markdown",
   "id": "76fb3ea3",
   "metadata": {},
   "source": [
    "## How I solved\n",
    "\n",
    "- Create an instance of the linked list\n",
    "- create a current pointer\n",
    "\n",
    "- move until only one is left in only one list\n",
    "- add the last item\n",
    "- return the next item in the merged list because it will be the proper head"
   ]
  },
  {
   "cell_type": "code",
   "execution_count": null,
   "id": "38a57255",
   "metadata": {},
   "outputs": [],
   "source": [
    "# Definition for singly-linked list.\n",
    "class ListNode(object):\n",
    "    def __init__(self, val=0, next=None):\n",
    "        self.val = val\n",
    "        self.next = next\n",
    "        \n",
    "class Solution(object):\n",
    "    def mergeTwoLists(self, list1, list2):\n",
    "        \"\"\"\n",
    "        :type list1: Optional[ListNode]\n",
    "        :type list2: Optional[ListNode]\n",
    "        :rtype: Optional[ListNode]\n",
    "        \"\"\"\n",
    "\n",
    "        mergedHead = ListNode()\n",
    "        current = mergedHead\n",
    "        \n",
    "        while list1 and list2:\n",
    "            if list1.val < list2.val:\n",
    "                current.next = list1\n",
    "                list1 = list1.next\n",
    "            else:\n",
    "                current.next = list2\n",
    "                list2 = list2.next\n",
    "\n",
    "            current = current.next\n",
    "\n",
    "        if list1:\n",
    "            current.next = list1\n",
    "        else:\n",
    "            current.next = list2\n",
    "    \n",
    "        return mergedHead.next\n",
    "            \n",
    "        "
   ]
  }
 ],
 "metadata": {
  "language_info": {
   "name": "python"
  }
 },
 "nbformat": 4,
 "nbformat_minor": 5
}
