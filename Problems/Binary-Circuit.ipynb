{
 "cells": [
  {
   "cell_type": "markdown",
   "id": "2518cc3f",
   "metadata": {},
   "source": [
    "# Binary Circuit"
   ]
  },
  {
   "cell_type": "markdown",
   "id": "09c01b54",
   "metadata": {},
   "source": [
    "## Description\n",
    "\n",
    "An engineer is building a circuit that processes binary strings. A binary string can be segregated by moving all Is to the end of the string. For example, \"01010\" becomes \"00011\" after segregation.\n",
    "\n",
    "In a single operation, a T can be moved to the right until it reaches the end of the string or another 1. The cost of the operation is 1 plus the number of places the T is moved. Each T must be moved to its maximum possible position to the right.\n",
    "\n",
    "Given a binary string s, find the maximum possible cost to segregate it.\n",
    "\n",
    "Example\n",
    "s = \"110100\"\n",
    "• The optimal strategy to maximize cost:\n",
    "1. Swap the second and third characters at a cost of 2, resulting in \"101100\"\n",
    "2. Swap the first and second characters at a cost of 2, resulting in \"011100\"\n",
    "3. Move each T to the end (moving 2 places each) at a cost of 3 per move\n",
    "The total cost is 2 + 2 + (3 x 3) = 13.\n",
    "Function Description\n",
    "Complete the function getMaxCost in the editor with the following parameters:\n",
    "string s; a binary string\n",
    "Returns\n",
    "long int: the maximum possible cost to segregate the string"
   ]
  },
  {
   "cell_type": "markdown",
   "id": "a978f6af",
   "metadata": {},
   "source": [
    "## My thoughts on the test\n",
    "- Going to try to solve with a sliding window\n",
    "\n",
    "- Want to find how many ones there are\n",
    "- Want to remove the zeros at the front.\n",
    "- Want to look for 1, 0, ... , 1 or end of string\n",
    "    - Then flip the places in the string and remove the zeros at the front\n",
    "    - Keep track of the score"
   ]
  },
  {
   "cell_type": "code",
   "execution_count": null,
   "id": "09213113",
   "metadata": {},
   "outputs": [],
   "source": [
    "def binarySegregation(s):\n",
    "    cost = 0\n",
    "    ones = 0\n",
    "    zeros_in_gap = 0\n",
    "\n",
    "    for ch in s:\n",
    "        if ch == '1':\n",
    "            if ones > 0 and zeros_in_gap > 0:\n",
    "                cost += ones\n",
    "            ones += 1\n",
    "            zeros_in_gap = 0\n",
    "        else:\n",
    "            if ones > 0:\n",
    "                cost += ones\n",
    "                zeros_in_gap += 1\n",
    "        print(ones, cost, zeros_in_gap)\n",
    "\n",
    "    if zeros_in_gap > 0:\n",
    "        cost += ones\n",
    "\n",
    "    return cost"
   ]
  },
  {
   "cell_type": "code",
   "execution_count": 13,
   "id": "eef7ea3b",
   "metadata": {},
   "outputs": [
    {
     "name": "stdout",
     "output_type": "stream",
     "text": [
      "1 0 0\n",
      "1 1 1\n",
      "2 2 0\n",
      "2 4 1\n",
      "2 6 2\n",
      "8\n"
     ]
    }
   ],
   "source": [
    "print(binarySegregation(\"10100\"))\n",
    "# print(binarySegregation(\"01110\"))\n",
    "# print(binarySegregation(\"111\"))"
   ]
  },
  {
   "cell_type": "markdown",
   "id": "2daa89ea",
   "metadata": {},
   "source": [
    "# How\n",
    "\n",
    "Uses a greedy algorithm that works in only one pass through O(n) time and O(1) space.\n",
    "\n"
   ]
  }
 ],
 "metadata": {
  "kernelspec": {
   "display_name": "Python 3",
   "language": "python",
   "name": "python3"
  },
  "language_info": {
   "codemirror_mode": {
    "name": "ipython",
    "version": 3
   },
   "file_extension": ".py",
   "mimetype": "text/x-python",
   "name": "python",
   "nbconvert_exporter": "python",
   "pygments_lexer": "ipython3",
   "version": "3.12.9"
  }
 },
 "nbformat": 4,
 "nbformat_minor": 5
}
