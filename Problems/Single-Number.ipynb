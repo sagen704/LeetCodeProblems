{
 "cells": [
  {
   "cell_type": "markdown",
   "id": "0d44f5c8",
   "metadata": {},
   "source": [
    "# Single Number"
   ]
  },
  {
   "cell_type": "markdown",
   "id": "324538a6",
   "metadata": {},
   "source": [
    "## Description\n",
    "\n",
    "Given a non-empty array of integers nums, every element appears twice except for one. Find that single one.\n",
    "\n",
    "You must implement a solution with a linear runtime complexity and use only constant extra space.\n",
    "\n",
    " \n",
    "\n",
    "Example 1:\n",
    "\n",
    "Input: nums = [2,2,1]\n",
    "\n",
    "Output: 1\n",
    "\n",
    "Example 2:\n",
    "\n",
    "Input: nums = [4,1,2,1,2]\n",
    "\n",
    "Output: 4\n",
    "\n",
    "Example 3:\n",
    "\n",
    "Input: nums = [1]\n",
    "\n",
    "Output: 1"
   ]
  },
  {
   "cell_type": "code",
   "execution_count": null,
   "id": "0d6c9d14",
   "metadata": {},
   "outputs": [],
   "source": [
    "class Solution:\n",
    "    def singleNumber(self, nums: List[int]) -> int:\n",
    "\n",
    "        nums_dict = {}\n",
    "        \n",
    "        for i in range(len(nums)):\n",
    "            if nums[i] not in nums_dict:\n",
    "                nums_dict[nums[i]] = False\n",
    "            else:\n",
    "                nums_dict.pop(nums[i])\n",
    "        return list(nums_dict.keys())[0]"
   ]
  },
  {
   "cell_type": "markdown",
   "id": "1479cf56",
   "metadata": {},
   "source": [
    "## Not ideal for speed could be faster\n",
    "\n",
    "It is made faster with the xor."
   ]
  }
 ],
 "metadata": {
  "language_info": {
   "name": "python"
  }
 },
 "nbformat": 4,
 "nbformat_minor": 5
}
