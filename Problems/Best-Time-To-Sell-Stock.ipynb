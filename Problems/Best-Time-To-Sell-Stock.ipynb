{
 "cells": [
  {
   "cell_type": "markdown",
   "id": "0172209e",
   "metadata": {},
   "source": [
    "# Best Time to Sell Stock\n",
    "\n",
    "You are given an array prices where prices[i] is the price of a given stock on the ith day.\n",
    "\n",
    "You want to maximize your profit by choosing a single day to buy one stock and choosing a different day in the future to sell that stock.\n",
    "\n",
    "Return the maximum profit you can achieve from this transaction. If you cannot achieve any profit, return 0.\n",
    "\n",
    " \n",
    "\n",
    "Example 1:\n",
    "\n",
    "Input: prices = [7,1,5,3,6,4]\n",
    "Output: 5\n",
    "Explanation: Buy on day 2 (price = 1) and sell on day 5 (price = 6), profit = 6-1 = 5.\n",
    "Note that buying on day 2 and selling on day 1 is not allowed because you must buy before you sell.\n",
    "Example 2:\n",
    "\n",
    "Input: prices = [7,6,4,3,1]\n",
    "Output: 0\n",
    "Explanation: In this case, no transactions are done and the max profit = 0.\n",
    " "
   ]
  },
  {
   "cell_type": "code",
   "execution_count": 1,
   "id": "b6731281",
   "metadata": {},
   "outputs": [],
   "source": [
    "class Solution(object):\n",
    "    def maxProfit(self, prices):\n",
    "        \"\"\"\n",
    "        :type prices: List[int]\n",
    "        :rtype: int\n",
    "        \"\"\"\n",
    "        bestSell = 0\n",
    "        low = prices[0]\n",
    "\n",
    "        for i in prices:\n",
    "            if i < low:\n",
    "                low = i\n",
    "            else:\n",
    "                bestSell = (i - low) if (i - low) > bestSell else bestSell\n",
    "\n",
    "        return bestSell"
   ]
  },
  {
   "cell_type": "markdown",
   "id": "ba82a6f2",
   "metadata": {},
   "source": [
    "# How I solved\n",
    "\n",
    "I used a greedy algorithm instead of running a simulation so that it just keeps track of the lowest cost and checks if it is better to sell which day. \n",
    "\n",
    "It runs in O(n)"
   ]
  },
  {
   "cell_type": "markdown",
   "id": "f709ff04",
   "metadata": {},
   "source": []
  }
 ],
 "metadata": {
  "kernelspec": {
   "display_name": "Python 3",
   "language": "python",
   "name": "python3"
  },
  "language_info": {
   "codemirror_mode": {
    "name": "ipython",
    "version": 3
   },
   "file_extension": ".py",
   "mimetype": "text/x-python",
   "name": "python",
   "nbconvert_exporter": "python",
   "pygments_lexer": "ipython3",
   "version": "3.12.9"
  }
 },
 "nbformat": 4,
 "nbformat_minor": 5
}
