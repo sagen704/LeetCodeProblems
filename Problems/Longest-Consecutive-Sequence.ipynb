{
 "cells": [
  {
   "cell_type": "markdown",
   "id": "27901bd7",
   "metadata": {},
   "source": [
    "# Longest Consecutive Sequence"
   ]
  },
  {
   "cell_type": "markdown",
   "id": "aaad5c50",
   "metadata": {},
   "source": [
    "## Description\n",
    "Given an unsorted array of integers nums, return the length of the longest consecutive elements sequence.\n",
    "\n",
    "You must write an algorithm that runs in O(n) time."
   ]
  },
  {
   "cell_type": "markdown",
   "id": "ce86d99d",
   "metadata": {},
   "source": [
    "## How Solved\n",
    "- Go through all the nums check if it is the beginning of a sequence (there is not a num - 1)\n",
    "- Move through check if the next neighbor is in the sequence. Using while loop\n",
    "- Keep track of the longest \n",
    "- Return the longest"
   ]
  },
  {
   "cell_type": "code",
   "execution_count": 1,
   "id": "770e55a0",
   "metadata": {},
   "outputs": [],
   "source": [
    "class Solution(object):\n",
    "    def longestConsecutive(self, nums):\n",
    "        \"\"\"\n",
    "        :type nums: List[int]\n",
    "        :rtype: int\n",
    "        \"\"\"\n",
    "        setNums = set(nums)\n",
    "        longestSeq = 0\n",
    "\n",
    "        for i in setNums:\n",
    "            if (i - 1) not in setNums:\n",
    "                length = 0\n",
    "                while (i + length) in setNums:\n",
    "                    length += 1\n",
    "                    longestSeq = max(longestSeq, length)\n",
    "\n",
    "        return longestSeq"
   ]
  },
  {
   "cell_type": "code",
   "execution_count": 2,
   "id": "4fcf22d7",
   "metadata": {},
   "outputs": [
    {
     "name": "stdout",
     "output_type": "stream",
     "text": [
      "4\n",
      "9\n"
     ]
    }
   ],
   "source": [
    "s = Solution()\n",
    "print(s.longestConsecutive(nums = [100,4,200,1,3,2]))\n",
    "print(s.longestConsecutive(nums = [0,3,7,2,5,8,4,6,0,1]))"
   ]
  }
 ],
 "metadata": {
  "kernelspec": {
   "display_name": "Python 3",
   "language": "python",
   "name": "python3"
  },
  "language_info": {
   "codemirror_mode": {
    "name": "ipython",
    "version": 3
   },
   "file_extension": ".py",
   "mimetype": "text/x-python",
   "name": "python",
   "nbconvert_exporter": "python",
   "pygments_lexer": "ipython3",
   "version": "3.10.7"
  }
 },
 "nbformat": 4,
 "nbformat_minor": 5
}
