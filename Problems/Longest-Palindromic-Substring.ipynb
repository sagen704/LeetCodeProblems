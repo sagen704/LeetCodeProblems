{
 "cells": [
  {
   "cell_type": "markdown",
   "id": "a54a6ffb",
   "metadata": {},
   "source": [
    "# Longest Palindromic Substring"
   ]
  },
  {
   "cell_type": "markdown",
   "id": "e64e63d8",
   "metadata": {},
   "source": [
    "## Description\n",
    "\n",
    "Given a string s, return the longest palindromic substring in s.\n",
    "\n",
    "Example 1:\n",
    "\n",
    "Input: s = \"babad\"\n",
    "Output: \"bab\"\n",
    "Explanation: \"aba\" is also a valid answer.\n",
    "\n",
    "Example 2:\n",
    "\n",
    "Input: s = \"cbbd\"\n",
    "Output: \"bb\""
   ]
  },
  {
   "cell_type": "markdown",
   "id": "168b1cbb",
   "metadata": {},
   "source": [
    "## Work\n",
    "\n",
    "So with palindromes you can usually use 2 pointer so lets start with that and look at possible solutions. It could also work with a sliding window but I will look at a two pointer first.\n",
    "\n",
    "**Two Pointer**\n",
    "\n",
    "Lets start with both the pointers \n",
    " - Move them in \n",
    " - if the two outside numbers are not the same move them both in\n",
    "\n",
    " Not going to work lets try sliding window\n",
    "\n",
    "**Sliding Window**\n",
    "\n",
    "I am going to need to have the window move throughout and have a stack that needs to check if there is going to be a palindrome.\n",
    "\n",
    "not sure how that will work for the single letter in the middle\n",
    "\n"
   ]
  },
  {
   "cell_type": "markdown",
   "id": "938b9b45",
   "metadata": {},
   "source": [
    "## Video help\n",
    "\n",
    "For any substring to check if they are palindromes that is O(n) time for every substring that would be O(n^3). Not ideal\n",
    "\n",
    "Why not start at each of the letters and move out can check how big of a palindrome. \n",
    "\n",
    "Edge case is an even length palindrome"
   ]
  }
 ],
 "metadata": {
  "language_info": {
   "name": "python"
  }
 },
 "nbformat": 4,
 "nbformat_minor": 5
}
