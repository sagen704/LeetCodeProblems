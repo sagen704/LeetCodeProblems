{
 "cells": [
  {
   "cell_type": "markdown",
   "id": "92ca9523",
   "metadata": {},
   "source": [
    "# Container With Most Water"
   ]
  },
  {
   "cell_type": "markdown",
   "id": "0b0b80dd",
   "metadata": {},
   "source": [
    "## Description\n",
    "\n",
    "You are given an integer array height of length n. There are n vertical lines drawn such that the two endpoints of the ith line are (i, 0) and (i, height[i]).\n",
    "\n",
    "Find two lines that together with the x-axis form a container, such that the container contains the most water.\n",
    "\n",
    "Return the maximum amount of water a container can store.\n",
    "\n"
   ]
  },
  {
   "cell_type": "markdown",
   "id": "1d14221e",
   "metadata": {},
   "source": [
    "# Brute Force Attempt.\n",
    "\n",
    "It breaks the time limit for some of them"
   ]
  },
  {
   "cell_type": "code",
   "execution_count": null,
   "id": "dc9a8ac5",
   "metadata": {},
   "outputs": [],
   "source": [
    "class Solution:\n",
    "    def maxArea(self, height):\n",
    "\n",
    "        largestAmount = 0\n",
    "\n",
    "        for i in range(len(height)):\n",
    "            for j in range(i + 1, len(height)):\n",
    "                largestAmount = min(height[i], height[j]) * (j - i) if min(height[i], height[j]) * (j - i) > largestAmount else largestAmount\n",
    "                # print(largestAmount, min(height[i], height[j]) * (j - i))\n",
    "\n",
    "        return largestAmount"
   ]
  },
  {
   "cell_type": "markdown",
   "id": "c878549f",
   "metadata": {},
   "source": [
    "# Greedy Way\n",
    "\n",
    "I am trying where first I make a dictionary of the number and its position\n",
    "\n",
    "Then I sort the list. \n",
    "\n",
    "Then I need to go from the largest one and check the back one vs the one next to it. the second to last vs the 3rd to last and the first to the third. and keep checking those until the max of those is smaller then the largest then return the largest. "
   ]
  },
  {
   "cell_type": "code",
   "execution_count": null,
   "id": "50a22678",
   "metadata": {},
   "outputs": [],
   "source": [
    "class Solution:\n",
    "    def maxArea(self, height):\n",
    "\n",
    "        largestArea = 0\n",
    "\n",
    "        l,r = 0,len(height) - 1\n",
    "\n",
    "        while r > l:\n",
    "            largestArea = min(height[l], height[r]) * (r - l) if min(height[l], height[r]) * (r - l) > largestArea else largestArea\n",
    "\n",
    "            if height[r] > height[l]:\n",
    "                l += 1\n",
    "            else:\n",
    "                r -= 1\n",
    "\n",
    "        return largestArea"
   ]
  }
 ],
 "metadata": {
  "kernelspec": {
   "display_name": "Python 3",
   "language": "python",
   "name": "python3"
  },
  "language_info": {
   "name": "python",
   "version": "3.12.9"
  }
 },
 "nbformat": 4,
 "nbformat_minor": 5
}
