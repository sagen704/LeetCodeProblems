{
 "cells": [
  {
   "cell_type": "markdown",
   "id": "c8859904",
   "metadata": {},
   "source": [
    "# 2300. Successful Pairs of Spells and Potions"
   ]
  },
  {
   "cell_type": "markdown",
   "id": "9fc991d5",
   "metadata": {},
   "source": [
    "## Date: October 8, 2025"
   ]
  },
  {
   "cell_type": "markdown",
   "id": "df17fd60",
   "metadata": {},
   "source": [
    "## Description\n",
    "\n",
    "You are given two positive integer arrays spells and potions, of length n and m respectively, where spells[i] represents the strength of the ith spell and potions[j] represents the strength of the jth potion.\n",
    "\n",
    "You are also given an integer success. A spell and potion pair is considered successful if the product of their strengths is at least success.\n",
    "\n",
    "Return an integer array pairs of length n where pairs[i] is the number of potions that will form a successful pair with the ith spell.\n",
    "\n",
    "\n",
    "Example 1:\n",
    "\n",
    "Input: spells = [5,1,3], potions = [1,2,3,4,5], success = 7\n",
    "Output: [4,0,3]\n",
    "Explanation:\n",
    "- 0th spell: 5 * [1,2,3,4,5] = [5,10,15,20,25]. 4 pairs are successful.\n",
    "- 1st spell: 1 * [1,2,3,4,5] = [1,2,3,4,5]. 0 pairs are successful.\n",
    "- 2nd spell: 3 * [1,2,3,4,5] = [3,6,9,12,15]. 3 pairs are successful.\n",
    "Thus, [4,0,3] is returned.\n",
    "\n",
    "Example 2:\n",
    "\n",
    "Input: spells = [3,1,2], potions = [8,5,8], success = 16\n",
    "Output: [2,0,2]\n",
    "Explanation:\n",
    "- 0th spell: 3 * [8,5,8] = [24,15,24]. 2 pairs are successful.\n",
    "- 1st spell: 1 * [8,5,8] = [8,5,8]. 0 pairs are successful. \n",
    "- 2nd spell: 2 * [8,5,8] = [16,10,16]. 2 pairs are successful. \n",
    "Thus, [2,0,2] is returned."
   ]
  },
  {
   "cell_type": "markdown",
   "id": "a75c2d79",
   "metadata": {},
   "source": [
    "# My First Solution \n",
    "\n",
    "It does not finish in the allowed time allowed"
   ]
  },
  {
   "cell_type": "code",
   "execution_count": null,
   "id": "21b17c95",
   "metadata": {},
   "outputs": [],
   "source": [
    "class Solution:\n",
    "    def successfulPairs(self, spells: List[int], potions: List[int], success: int) -> List[int]:\n",
    "\n",
    "        res = []\n",
    "        potions_sort = sorted(potions)\n",
    "\n",
    "\n",
    "        for i in spells_sort:\n",
    "            div = success / i\n",
    "            min_needed = int(div) if div == int(div) else int(div) + 1\n",
    "           \n",
    "            end_pointer = len(potions) - 1\n",
    "            times_through = 0\n",
    "           \n",
    "           # Need to keep track of two pointers of the window that I am looking in \n",
    "            while potions_sort[end_pointer] >= min_needed and end_pointer >= 0:\n",
    "                # print(f'Spell {i}, Which pointer we are at {potions_sort[end_pointer]}, Min needed {min_needed}, Times through {times_through}')\n",
    "                #print(f'end pointer number {end_pointer}')\n",
    "\n",
    "                times_through += 1\n",
    "                end_pointer -= 1\n",
    "                \n",
    "            suc_dict[i] = times_through\n",
    "        \n",
    "        for i in spells:\n",
    "            res.append(suc_dict[i])\n",
    "\n",
    "        return res\n"
   ]
  },
  {
   "cell_type": "markdown",
   "id": "93236704",
   "metadata": {},
   "source": [
    "# My improved Solution\n",
    "\n",
    "So it will use binary search that will make it a lot faster to figure out what the minimum potion needed to make the spell successful.\n",
    "\n",
    "Mine right now runs in O(n * m) speed and that is too slow.\n",
    "\n",
    "I only do need to sort the potions to find the min value.\n",
    "\n"
   ]
  },
  {
   "cell_type": "code",
   "execution_count": null,
   "id": "b7b80530",
   "metadata": {},
   "outputs": [],
   "source": [
    "class Solution:\n",
    "    def successfulPairs(self, spells: List[int], potions: List[int], success: int) -> List[int]:\n",
    "\n",
    "        res = []\n",
    "        potions_sort = sorted(potions)\n",
    "        n = len(potions)\n",
    "\n",
    "\n",
    "        for i in spells:\n",
    "            div = success / i\n",
    "            min_needed = int(div) if div == int(div) else int(div) + 1\n",
    "            l, r = 0, len(potions)\n",
    "\n",
    "            while l < r:\n",
    "                mid_val = (l + r) // 2\n",
    "\n",
    "                if potions_sort[mid_val] < min_needed:\n",
    "                    l = mid_val + 1\n",
    "                else:\n",
    "                    r = mid_val\n",
    "            \n",
    "            res.append(n - l)\n",
    "\n",
    "        return res"
   ]
  },
  {
   "cell_type": "markdown",
   "id": "9505ab78",
   "metadata": {},
   "source": [
    "## Notes Learned.\n",
    "\n",
    "So to get the spot in the potions array that is the min index that would work you need to run binary search the whole way through every single time. You need to two pointers to keep track of the search window you are looking through. \n",
    "\n",
    "You append to the array n - l. n is the length of the array and the l is the left pointer of the value. It is not the right pointer because that could be equal to the min value and you would want to go one more to the left. \n",
    "\n",
    "This runs in O(n * log(n))"
   ]
  }
 ],
 "metadata": {
  "kernelspec": {
   "display_name": "Python 3",
   "language": "python",
   "name": "python3"
  },
  "language_info": {
   "name": "python",
   "version": "3.12.9"
  }
 },
 "nbformat": 4,
 "nbformat_minor": 5
}
