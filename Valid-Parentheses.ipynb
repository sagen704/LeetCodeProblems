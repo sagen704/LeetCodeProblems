{
 "cells": [
  {
   "cell_type": "markdown",
   "id": "a834d2bd",
   "metadata": {},
   "source": [
    "# Valid Parentheses"
   ]
  },
  {
   "cell_type": "markdown",
   "id": "53a17ea0",
   "metadata": {},
   "source": [
    "## Description\n",
    "\n",
    "Given a string s containing just the characters '(', ')', '{', '}', '[' and ']', determine if the input string is valid.\n",
    "\n",
    "An input string is valid if:\n",
    "\n",
    "Open brackets must be closed by the same type of brackets.\n",
    "Open brackets must be closed in the correct order.\n",
    "Every close bracket has a corresponding open bracket of the same type."
   ]
  },
  {
   "cell_type": "markdown",
   "id": "94a36813",
   "metadata": {},
   "source": [
    "## How to solve\n",
    "\n",
    "- Using a stack data structure\n",
    "- Loop through the string \n",
    "    - If it is an opening add it to the stack\n",
    "    - Else need to check if the closing one matches the top one on the stack\n",
    "        - If it does\n",
    "            - Remove it from the stack\n",
    "        - Else\n",
    "            - Return false\n"
   ]
  },
  {
   "cell_type": "markdown",
   "id": "62550987",
   "metadata": {},
   "source": [
    "### My first attempt\n",
    "\n",
    "- Wrong"
   ]
  },
  {
   "cell_type": "code",
   "execution_count": null,
   "id": "66372335",
   "metadata": {},
   "outputs": [],
   "source": [
    "class Solution(object):\n",
    "    def isValid(self, s):\n",
    "        \"\"\"\n",
    "        :type s: str\n",
    "        :rtype: bool\n",
    "        \"\"\"\n",
    "        openList = \"\"\n",
    "\n",
    "        if len(s) % 2 != 0:\n",
    "            return False\n",
    "        \n",
    "        for i in s:\n",
    "            if i == '(':\n",
    "                openList = openList + '('\n",
    "            if i == '{':\n",
    "                openList = openList + '{'\n",
    "            if i == '[':\n",
    "                openList = openList + '['\n",
    "\n",
    "            if i == ')':\n",
    "                if openList[-1] == '(':\n",
    "                    openList = openList[:-1]\n",
    "                else:\n",
    "                    return False\n",
    "            if i == '}':\n",
    "                if openList[-1] == '{':\n",
    "                    openList = openList[:-1]\n",
    "                else:\n",
    "                    return False\n",
    "            if i == ']':\n",
    "                if openList[-1] == '[':\n",
    "                    openList = openList[:-1]\n",
    "                else:\n",
    "                    return False\n",
    "\n",
    "        return True if len(openList) == 0 else False\n"
   ]
  },
  {
   "cell_type": "markdown",
   "id": "9bcf7453",
   "metadata": {},
   "source": [
    "### Good Solution"
   ]
  },
  {
   "cell_type": "code",
   "execution_count": null,
   "id": "e25f3ed9",
   "metadata": {},
   "outputs": [],
   "source": [
    "class Solution(object):\n",
    "    def isValid(self, s):\n",
    "        \"\"\"\n",
    "        :type s: str\n",
    "        :rtype: bool\n",
    "        \"\"\"\n",
    "        stack = []\n",
    "        closeToOpen = {')':'(', ']':'[', '}':'{'}\n",
    "\n",
    "        for i in s:\n",
    "            if i in closeToOpen:\n",
    "                if stack and stack[-1] == closeToOpen[i]:\n",
    "                    stack.pop(-1)\n",
    "                else:\n",
    "                    return False\n",
    "            else:\n",
    "                stack.append(i)\n",
    "\n",
    "        return True if not stack else False"
   ]
  }
 ],
 "metadata": {
  "kernelspec": {
   "display_name": "Python 3",
   "language": "python",
   "name": "python3"
  },
  "language_info": {
   "name": "python",
   "version": "3.10.7"
  }
 },
 "nbformat": 4,
 "nbformat_minor": 5
}
