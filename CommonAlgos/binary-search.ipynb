{
 "cells": [
  {
   "cell_type": "code",
   "execution_count": null,
   "id": "442559cc",
   "metadata": {},
   "outputs": [],
   "source": [
    "arr = [1,4,13,56,87]"
   ]
  },
  {
   "cell_type": "code",
   "execution_count": null,
   "id": "ef59f9b2",
   "metadata": {},
   "outputs": [],
   "source": [
    "def binarySearch(A, x):\n",
    "\n",
    "    if a\n",
    "    i = len(A) // 2\n",
    "    if A[i] == x:\n",
    "        return i\n",
    "    elif A[i] < x:\n",
    "        return\n",
    "\n"
   ]
  }
 ],
 "metadata": {
  "kernelspec": {
   "display_name": "Python 3",
   "language": "python",
   "name": "python3"
  },
  "language_info": {
   "name": "python",
   "version": "3.12.9"
  }
 },
 "nbformat": 4,
 "nbformat_minor": 5
}
