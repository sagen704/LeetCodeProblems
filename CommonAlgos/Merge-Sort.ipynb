{
 "cells": [
  {
   "cell_type": "markdown",
   "id": "70b4eb5b",
   "metadata": {},
   "source": [
    "# Merge Sort"
   ]
  },
  {
   "cell_type": "markdown",
   "id": "4eb65cca",
   "metadata": {},
   "source": [
    "Merge sort requires needing to split the algorithm in two and and then recursively doing that until the base case which is the length is one. \n",
    "\n",
    "The merge part of the algorithm takes in two arrays and then takes a pointer in one"
   ]
  },
  {
   "cell_type": "code",
   "execution_count": 9,
   "id": "a505c173",
   "metadata": {},
   "outputs": [],
   "source": [
    "arr = [2,3,4,6,9,1,11,-2]\n",
    "arr1 = [2,3,4,6,9,1,11]\n",
    "\n",
    "def merge(A, B):\n",
    "  D = []\n",
    "  i = 0\n",
    "  j = 0\n",
    "  print(f\"Here is A , B, {A}, {B}\")\n",
    "  while i < len(A) and j < len(B):\n",
    "    if A[i] < B[j]:\n",
    "      D.append(A[i])\n",
    "      i += 1\n",
    "    else:\n",
    "      D.append(B[j])\n",
    "      j += 1\n",
    "\n",
    "  if A:\n",
    "    while i < len(A):\n",
    "        D.append(A[i])\n",
    "        i += 1\n",
    "  if B:\n",
    "    while j < len(B):\n",
    "        D.append(B[j])\n",
    "        j += 1\n",
    "\n",
    "  print(f'Here is D at the end of merge, {D}')\n",
    "  return D\n",
    "\n",
    "def mergesort(A):\n",
    "  if len(A) <= 1:\n",
    "    return A\n",
    "  else:\n",
    "    print(f'Here is A before the two recusive calls {A}')\n",
    "    i = int(len(A) / 2)\n",
    "    X = mergesort(A[0:i])\n",
    "    Y = mergesort(A[i:len(A)])\n",
    "    return merge(X, Y)"
   ]
  },
  {
   "cell_type": "markdown",
   "id": "10d5c31e",
   "metadata": {},
   "source": [
    "## Testing\n",
    "\n",
    "Reached maximum recursion depth so need to fix that. \n",
    " - Fixed with the base case because I need to use the less than sign to ensure that the base case is hit. Otherwise it was jumping over the base case.\n",
    "\n",
    "Reached a Nonetype in ```while i < len(A) and j < len(B):```\n",
    " - Was fixed after I needed to return D in the merge section of algo\n",
    "\n",
    "Ran into the issue of nothing really being returned \n",
    " - Some of the issues are where I am doing the split point for the second recursive call to make sure I am including the edges of the array and the center.\n",
    "\n",
    "Last major issue was fixing was merging the last parts of the arrays on to the end of ```D```\n",
    "\n"
   ]
  },
  {
   "cell_type": "code",
   "execution_count": 10,
   "id": "c89b0882",
   "metadata": {},
   "outputs": [
    {
     "name": "stdout",
     "output_type": "stream",
     "text": [
      "Here is A before the two recusive calls [2, 3, 4, 6, 9, 1, 11]\n",
      "Here is A before the two recusive calls [2, 3, 4]\n",
      "Here is A before the two recusive calls [3, 4]\n",
      "Here is A , B, [3], [4]\n",
      "Here is D at the end of merge, [3, 4]\n",
      "Here is A , B, [2], [3, 4]\n",
      "Here is D at the end of merge, [2, 3, 4]\n",
      "Here is A before the two recusive calls [6, 9, 1, 11]\n",
      "Here is A before the two recusive calls [6, 9]\n",
      "Here is A , B, [6], [9]\n",
      "Here is D at the end of merge, [6, 9]\n",
      "Here is A before the two recusive calls [1, 11]\n",
      "Here is A , B, [1], [11]\n",
      "Here is D at the end of merge, [1, 11]\n",
      "Here is A , B, [6, 9], [1, 11]\n",
      "Here is D at the end of merge, [1, 6, 9, 11]\n",
      "Here is A , B, [2, 3, 4], [1, 6, 9, 11]\n",
      "Here is D at the end of merge, [1, 2, 3, 4, 6, 9, 11]\n",
      "[1, 2, 3, 4, 6, 9, 11]\n"
     ]
    }
   ],
   "source": [
    "print(mergesort(arr1))\n",
    "\n",
    "# print(mergesort([2,1,3,4]))"
   ]
  }
 ],
 "metadata": {
  "kernelspec": {
   "display_name": "Python 3",
   "language": "python",
   "name": "python3"
  },
  "language_info": {
   "codemirror_mode": {
    "name": "ipython",
    "version": 3
   },
   "file_extension": ".py",
   "mimetype": "text/x-python",
   "name": "python",
   "nbconvert_exporter": "python",
   "pygments_lexer": "ipython3",
   "version": "3.12.9"
  }
 },
 "nbformat": 4,
 "nbformat_minor": 5
}
